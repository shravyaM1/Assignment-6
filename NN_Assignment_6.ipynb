{
  "cells": [
    {
      "cell_type": "markdown",
      "metadata": {
        "id": "view-in-github",
        "colab_type": "text"
      },
      "source": [
        "<a href=\"https://colab.research.google.com/github/shravyaM1/Assignment-6/blob/main/NN_Assignment_6.ipynb\" target=\"_parent\"><img src=\"https://colab.research.google.com/assets/colab-badge.svg\" alt=\"Open In Colab\"/></a>"
      ]
    },
    {
      "cell_type": "markdown",
      "metadata": {
        "id": "qIbDEOjMXAQg"
      },
      "source": [
        "#In class programming:\n"
      ]
    },
    {
      "cell_type": "code",
      "execution_count": 2,
      "metadata": {
        "colab": {
          "base_uri": "https://localhost:8080/",
          "height": 383
        },
        "id": "U9ZARym4DeFY",
        "outputId": "f34f49a5-a195-4a12-dce0-17ac25d2bc4e"
      },
      "outputs": [
        {
          "output_type": "error",
          "ename": "ModuleNotFoundError",
          "evalue": "ignored",
          "traceback": [
            "\u001b[0;31m---------------------------------------------------------------------------\u001b[0m",
            "\u001b[0;31mModuleNotFoundError\u001b[0m                       Traceback (most recent call last)",
            "\u001b[0;32m<ipython-input-2-35033cce13ed>\u001b[0m in \u001b[0;36m<cell line: 4>\u001b[0;34m()\u001b[0m\n\u001b[1;32m      2\u001b[0m \u001b[0;32mimport\u001b[0m \u001b[0mkeras\u001b[0m\u001b[0;34m\u001b[0m\u001b[0;34m\u001b[0m\u001b[0m\n\u001b[1;32m      3\u001b[0m \u001b[0;32mfrom\u001b[0m \u001b[0mkeras\u001b[0m\u001b[0;34m.\u001b[0m\u001b[0mmodels\u001b[0m \u001b[0;32mimport\u001b[0m \u001b[0mSequential\u001b[0m\u001b[0;34m\u001b[0m\u001b[0;34m\u001b[0m\u001b[0m\n\u001b[0;32m----> 4\u001b[0;31m \u001b[0;32mfrom\u001b[0m \u001b[0mkeras\u001b[0m\u001b[0;34m.\u001b[0m\u001b[0mlayers\u001b[0m\u001b[0;34m.\u001b[0m\u001b[0mcore\u001b[0m \u001b[0;32mimport\u001b[0m \u001b[0mDense\u001b[0m\u001b[0;34m,\u001b[0m \u001b[0mActivation\u001b[0m\u001b[0;34m\u001b[0m\u001b[0;34m\u001b[0m\u001b[0m\n\u001b[0m\u001b[1;32m      5\u001b[0m \u001b[0;34m\u001b[0m\u001b[0m\n\u001b[1;32m      6\u001b[0m \u001b[0;31m# load dataset\u001b[0m\u001b[0;34m\u001b[0m\u001b[0;34m\u001b[0m\u001b[0m\n",
            "\u001b[0;31mModuleNotFoundError\u001b[0m: No module named 'keras.layers.core'",
            "",
            "\u001b[0;31m---------------------------------------------------------------------------\u001b[0;32m\nNOTE: If your import is failing due to a missing package, you can\nmanually install dependencies using either !pip or !apt.\n\nTo view examples of installing some common dependencies, click the\n\"Open Examples\" button below.\n\u001b[0;31m---------------------------------------------------------------------------\u001b[0m\n"
          ],
          "errorDetails": {
            "actions": [
              {
                "action": "open_url",
                "actionText": "Open Examples",
                "url": "/notebooks/snippets/importing_libraries.ipynb"
              }
            ]
          }
        }
      ],
      "source": [
        "#@title Existing code Wiht out adding any additional Dense layers to the\n",
        "import keras\n",
        "from keras.models import Sequential\n",
        "from keras.layers.core import Dense, Activation\n",
        "\n",
        "# load dataset\n",
        "from sklearn.model_selection import train_test_split\n",
        "import pandas as pd\n",
        "import numpy as np\n",
        "\n",
        "dataset = pd.read_csv('diabetes.csv', header=None).values\n",
        "X_train, X_test, Y_train, Y_test = train_test_split(dataset[:,0:8], dataset[:,8],\n",
        "                                                    test_size=0.25, random_state=87)\n",
        "np.random.seed(155)\n",
        "my_first_nn = Sequential() # create model\n",
        "my_first_nn.add(Dense(20, input_dim=8, activation='relu')) # hidden layer\n",
        "my_first_nn.add(Dense(1, activation='sigmoid')) # output layer\n",
        "my_first_nn.compile(loss='binary_crossentropy', optimizer='adam', metrics=['acc'])\n",
        "my_first_nn_fitted = my_first_nn.fit(X_train, Y_train, epochs=100,\n",
        "                                     initial_epoch=0)\n",
        "print(my_first_nn.summary())\n",
        "print(\"********************************************\") #just to identify the result printing this line\n",
        "print(my_first_nn.evaluate(X_test, Y_test))"
      ]
    },
    {
      "cell_type": "code",
      "execution_count": null,
      "metadata": {
        "colab": {
          "base_uri": "https://localhost:8080/"
        },
        "id": "RXkAyb9Bsm9_",
        "outputId": "1854c668-b21c-4af9-eec7-e8e67991f901"
      },
      "outputs": [
        {
          "name": "stdout",
          "output_type": "stream",
          "text": [
            "Epoch 1/100\n",
            "18/18 [==============================] - 1s 2ms/step - loss: 1.5851 - acc: 0.5972\n",
            "Epoch 2/100\n",
            "18/18 [==============================] - 0s 2ms/step - loss: 0.7130 - acc: 0.3837\n",
            "Epoch 3/100\n",
            "18/18 [==============================] - 0s 2ms/step - loss: 0.6942 - acc: 0.5729\n",
            "Epoch 4/100\n",
            "18/18 [==============================] - 0s 3ms/step - loss: 0.6832 - acc: 0.6337\n",
            "Epoch 5/100\n",
            "18/18 [==============================] - 0s 3ms/step - loss: 0.6734 - acc: 0.6510\n",
            "Epoch 6/100\n",
            "18/18 [==============================] - 0s 3ms/step - loss: 0.6635 - acc: 0.6580\n",
            "Epoch 7/100\n",
            "18/18 [==============================] - 0s 3ms/step - loss: 0.6468 - acc: 0.6615\n",
            "Epoch 8/100\n",
            "18/18 [==============================] - 0s 4ms/step - loss: 0.6471 - acc: 0.6615\n",
            "Epoch 9/100\n",
            "18/18 [==============================] - 0s 3ms/step - loss: 0.6412 - acc: 0.6615\n",
            "Epoch 10/100\n",
            "18/18 [==============================] - 0s 5ms/step - loss: 0.6292 - acc: 0.6615\n",
            "Epoch 11/100\n",
            "18/18 [==============================] - 0s 2ms/step - loss: 0.6199 - acc: 0.6615\n",
            "Epoch 12/100\n",
            "18/18 [==============================] - 0s 3ms/step - loss: 0.6102 - acc: 0.6615\n",
            "Epoch 13/100\n",
            "18/18 [==============================] - 0s 3ms/step - loss: 0.6047 - acc: 0.6615\n",
            "Epoch 14/100\n",
            "18/18 [==============================] - 0s 1ms/step - loss: 0.6014 - acc: 0.6615\n",
            "Epoch 15/100\n",
            "18/18 [==============================] - 0s 1ms/step - loss: 0.5983 - acc: 0.6615\n",
            "Epoch 16/100\n",
            "18/18 [==============================] - 0s 1ms/step - loss: 0.5972 - acc: 0.6615\n",
            "Epoch 17/100\n",
            "18/18 [==============================] - 0s 1ms/step - loss: 0.5940 - acc: 0.6615\n",
            "Epoch 18/100\n",
            "18/18 [==============================] - 0s 1ms/step - loss: 0.5916 - acc: 0.6615\n",
            "Epoch 19/100\n",
            "18/18 [==============================] - 0s 1ms/step - loss: 0.5955 - acc: 0.6615\n",
            "Epoch 20/100\n",
            "18/18 [==============================] - 0s 2ms/step - loss: 0.5946 - acc: 0.6615\n",
            "Epoch 21/100\n",
            "18/18 [==============================] - 0s 1ms/step - loss: 0.5882 - acc: 0.6615\n",
            "Epoch 22/100\n",
            "18/18 [==============================] - 0s 2ms/step - loss: 0.5881 - acc: 0.6615\n",
            "Epoch 23/100\n",
            "18/18 [==============================] - 0s 2ms/step - loss: 0.5897 - acc: 0.6615\n",
            "Epoch 24/100\n",
            "18/18 [==============================] - 0s 2ms/step - loss: 0.5961 - acc: 0.6615\n",
            "Epoch 25/100\n",
            "18/18 [==============================] - 0s 2ms/step - loss: 0.5861 - acc: 0.6615\n",
            "Epoch 26/100\n",
            "18/18 [==============================] - 0s 2ms/step - loss: 0.5856 - acc: 0.6615\n",
            "Epoch 27/100\n",
            "18/18 [==============================] - 0s 2ms/step - loss: 0.5901 - acc: 0.6615\n",
            "Epoch 28/100\n",
            "18/18 [==============================] - 0s 2ms/step - loss: 0.5865 - acc: 0.6615\n",
            "Epoch 29/100\n",
            "18/18 [==============================] - 0s 2ms/step - loss: 0.5829 - acc: 0.6615\n",
            "Epoch 30/100\n",
            "18/18 [==============================] - 0s 2ms/step - loss: 0.5802 - acc: 0.6615\n",
            "Epoch 31/100\n",
            "18/18 [==============================] - 0s 2ms/step - loss: 0.5832 - acc: 0.6615\n",
            "Epoch 32/100\n",
            "18/18 [==============================] - 0s 1ms/step - loss: 0.5795 - acc: 0.6615\n",
            "Epoch 33/100\n",
            "18/18 [==============================] - 0s 2ms/step - loss: 0.5859 - acc: 0.6615\n",
            "Epoch 34/100\n",
            "18/18 [==============================] - 0s 1ms/step - loss: 0.5794 - acc: 0.6615\n",
            "Epoch 35/100\n",
            "18/18 [==============================] - 0s 1ms/step - loss: 0.5791 - acc: 0.6615\n",
            "Epoch 36/100\n",
            "18/18 [==============================] - 0s 1ms/step - loss: 0.5767 - acc: 0.6615\n",
            "Epoch 37/100\n",
            "18/18 [==============================] - 0s 1ms/step - loss: 0.5758 - acc: 0.6615\n",
            "Epoch 38/100\n",
            "18/18 [==============================] - 0s 1ms/step - loss: 0.5795 - acc: 0.6615\n",
            "Epoch 39/100\n",
            "18/18 [==============================] - 0s 1ms/step - loss: 0.5773 - acc: 0.6615\n",
            "Epoch 40/100\n",
            "18/18 [==============================] - 0s 1ms/step - loss: 0.5699 - acc: 0.6615\n",
            "Epoch 41/100\n",
            "18/18 [==============================] - 0s 2ms/step - loss: 0.5704 - acc: 0.6615\n",
            "Epoch 42/100\n",
            "18/18 [==============================] - 0s 2ms/step - loss: 0.5656 - acc: 0.6615\n",
            "Epoch 43/100\n",
            "18/18 [==============================] - 0s 1ms/step - loss: 0.5735 - acc: 0.6615\n",
            "Epoch 44/100\n",
            "18/18 [==============================] - 0s 1ms/step - loss: 0.5656 - acc: 0.6615\n",
            "Epoch 45/100\n",
            "18/18 [==============================] - 0s 1ms/step - loss: 0.5674 - acc: 0.6615\n",
            "Epoch 46/100\n",
            "18/18 [==============================] - 0s 1ms/step - loss: 0.5628 - acc: 0.6615\n",
            "Epoch 47/100\n",
            "18/18 [==============================] - 0s 2ms/step - loss: 0.5721 - acc: 0.6615\n",
            "Epoch 48/100\n",
            "18/18 [==============================] - 0s 1ms/step - loss: 0.5701 - acc: 0.6615\n",
            "Epoch 49/100\n",
            "18/18 [==============================] - 0s 2ms/step - loss: 0.5713 - acc: 0.6615\n",
            "Epoch 50/100\n",
            "18/18 [==============================] - 0s 2ms/step - loss: 0.5716 - acc: 0.6615\n",
            "Epoch 51/100\n",
            "18/18 [==============================] - 0s 1ms/step - loss: 0.5645 - acc: 0.6615\n",
            "Epoch 52/100\n",
            "18/18 [==============================] - 0s 1ms/step - loss: 0.5606 - acc: 0.6615\n",
            "Epoch 53/100\n",
            "18/18 [==============================] - 0s 1ms/step - loss: 0.5599 - acc: 0.6615\n",
            "Epoch 54/100\n",
            "18/18 [==============================] - 0s 1ms/step - loss: 0.5685 - acc: 0.6615\n",
            "Epoch 55/100\n",
            "18/18 [==============================] - 0s 1ms/step - loss: 0.5715 - acc: 0.6615\n",
            "Epoch 56/100\n",
            "18/18 [==============================] - 0s 2ms/step - loss: 0.5581 - acc: 0.6615\n",
            "Epoch 57/100\n",
            "18/18 [==============================] - 0s 1ms/step - loss: 0.5704 - acc: 0.6615\n",
            "Epoch 58/100\n",
            "18/18 [==============================] - 0s 1ms/step - loss: 0.5637 - acc: 0.6615\n",
            "Epoch 59/100\n",
            "18/18 [==============================] - 0s 1ms/step - loss: 0.5576 - acc: 0.6615\n",
            "Epoch 60/100\n",
            "18/18 [==============================] - 0s 1ms/step - loss: 0.5540 - acc: 0.6615\n",
            "Epoch 61/100\n",
            "18/18 [==============================] - 0s 1ms/step - loss: 0.5540 - acc: 0.6615\n",
            "Epoch 62/100\n",
            "18/18 [==============================] - 0s 1ms/step - loss: 0.5783 - acc: 0.6615\n",
            "Epoch 63/100\n",
            "18/18 [==============================] - 0s 1ms/step - loss: 0.5635 - acc: 0.6615\n",
            "Epoch 64/100\n",
            "18/18 [==============================] - 0s 1ms/step - loss: 0.5621 - acc: 0.6615\n",
            "Epoch 65/100\n",
            "18/18 [==============================] - 0s 1ms/step - loss: 0.5608 - acc: 0.6615\n",
            "Epoch 66/100\n",
            "18/18 [==============================] - 0s 1ms/step - loss: 0.5610 - acc: 0.6615\n",
            "Epoch 67/100\n",
            "18/18 [==============================] - 0s 1ms/step - loss: 0.5714 - acc: 0.6615\n",
            "Epoch 68/100\n",
            "18/18 [==============================] - 0s 1ms/step - loss: 0.5536 - acc: 0.6615\n",
            "Epoch 69/100\n",
            "18/18 [==============================] - 0s 1ms/step - loss: 0.5525 - acc: 0.6615\n",
            "Epoch 70/100\n",
            "18/18 [==============================] - 0s 2ms/step - loss: 0.5570 - acc: 0.6615\n",
            "Epoch 71/100\n",
            "18/18 [==============================] - 0s 1ms/step - loss: 0.5528 - acc: 0.6615\n",
            "Epoch 72/100\n",
            "18/18 [==============================] - 0s 2ms/step - loss: 0.5584 - acc: 0.6615\n",
            "Epoch 73/100\n",
            "18/18 [==============================] - 0s 1ms/step - loss: 0.5509 - acc: 0.6615\n",
            "Epoch 74/100\n",
            "18/18 [==============================] - 0s 1ms/step - loss: 0.5577 - acc: 0.6615\n",
            "Epoch 75/100\n",
            "18/18 [==============================] - 0s 2ms/step - loss: 0.5514 - acc: 0.6615\n",
            "Epoch 76/100\n",
            "18/18 [==============================] - 0s 1ms/step - loss: 0.5562 - acc: 0.6615\n",
            "Epoch 77/100\n",
            "18/18 [==============================] - 0s 1ms/step - loss: 0.5499 - acc: 0.6615\n",
            "Epoch 78/100\n",
            "18/18 [==============================] - 0s 1ms/step - loss: 0.5484 - acc: 0.6615\n",
            "Epoch 79/100\n",
            "18/18 [==============================] - 0s 2ms/step - loss: 0.5566 - acc: 0.6615\n",
            "Epoch 80/100\n",
            "18/18 [==============================] - 0s 1ms/step - loss: 0.5539 - acc: 0.6615\n",
            "Epoch 81/100\n",
            "18/18 [==============================] - 0s 1ms/step - loss: 0.5498 - acc: 0.6615\n",
            "Epoch 82/100\n",
            "18/18 [==============================] - 0s 1ms/step - loss: 0.5533 - acc: 0.6615\n",
            "Epoch 83/100\n",
            "18/18 [==============================] - 0s 1ms/step - loss: 0.5547 - acc: 0.6615\n",
            "Epoch 84/100\n",
            "18/18 [==============================] - 0s 2ms/step - loss: 0.5494 - acc: 0.6615\n",
            "Epoch 85/100\n",
            "18/18 [==============================] - 0s 1ms/step - loss: 0.5503 - acc: 0.6615\n",
            "Epoch 86/100\n",
            "18/18 [==============================] - 0s 1ms/step - loss: 0.5499 - acc: 0.6615\n",
            "Epoch 87/100\n",
            "18/18 [==============================] - 0s 1ms/step - loss: 0.5444 - acc: 0.6615\n",
            "Epoch 88/100\n",
            "18/18 [==============================] - 0s 2ms/step - loss: 0.5593 - acc: 0.6615\n",
            "Epoch 89/100\n",
            "18/18 [==============================] - 0s 1ms/step - loss: 0.5638 - acc: 0.6615\n",
            "Epoch 90/100\n",
            "18/18 [==============================] - 0s 1ms/step - loss: 0.5608 - acc: 0.6615\n",
            "Epoch 91/100\n",
            "18/18 [==============================] - 0s 1ms/step - loss: 0.5542 - acc: 0.6615\n",
            "Epoch 92/100\n",
            "18/18 [==============================] - 0s 1ms/step - loss: 0.5562 - acc: 0.6615\n",
            "Epoch 93/100\n",
            "18/18 [==============================] - 0s 1ms/step - loss: 0.5464 - acc: 0.6615\n",
            "Epoch 94/100\n",
            "18/18 [==============================] - 0s 1ms/step - loss: 0.5401 - acc: 0.6615\n",
            "Epoch 95/100\n",
            "18/18 [==============================] - 0s 1ms/step - loss: 0.5391 - acc: 0.7153\n",
            "Epoch 96/100\n",
            "18/18 [==============================] - 0s 2ms/step - loss: 0.5599 - acc: 0.7170\n",
            "Epoch 97/100\n",
            "18/18 [==============================] - 0s 1ms/step - loss: 0.5561 - acc: 0.7135\n",
            "Epoch 98/100\n",
            "18/18 [==============================] - 0s 1ms/step - loss: 0.5485 - acc: 0.7222\n",
            "Epoch 99/100\n",
            "18/18 [==============================] - 0s 1ms/step - loss: 0.5415 - acc: 0.7274\n",
            "Epoch 100/100\n",
            "18/18 [==============================] - 0s 2ms/step - loss: 0.5436 - acc: 0.7257\n",
            "Model: \"sequential_15\"\n",
            "_________________________________________________________________\n",
            " Layer (type)                Output Shape              Param #   \n",
            "=================================================================\n",
            " dense_36 (Dense)            (None, 20)                180       \n",
            "                                                                 \n",
            " dense_37 (Dense)            (None, 10)                210       \n",
            "                                                                 \n",
            " dense_38 (Dense)            (None, 5)                 55        \n",
            "                                                                 \n",
            " dense_39 (Dense)            (None, 1)                 6         \n",
            "                                                                 \n",
            "=================================================================\n",
            "Total params: 451\n",
            "Trainable params: 451\n",
            "Non-trainable params: 0\n",
            "_________________________________________________________________\n",
            "None\n",
            "6/6 [==============================] - 0s 4ms/step - loss: 0.6450 - acc: 0.6667\n",
            "[0.6450009942054749, 0.6666666865348816]\n"
          ]
        }
      ],
      "source": [
        "#@title Adding More Dense Layers to the Existing Code and Check the accuracy\n",
        "\n",
        "my_first_nn = Sequential() # create model\n",
        "my_first_nn.add(Dense(20, input_dim=8, activation='relu')) # hidden layer 1\n",
        "\n",
        "#adding more layes\n",
        "my_first_nn.add(Dense(10, input_dim=8, activation='relu')) # hidden layer 2\n",
        "my_first_nn.add(Dense(5, input_dim=8, activation='relu')) # hidden layer 3\n",
        "my_first_nn.add(Dense(1, activation='sigmoid')) # output layer\n",
        "\n",
        "my_first_nn.compile(loss='binary_crossentropy', optimizer='adam', metrics=['acc'])\n",
        "my_first_nn.fit(X_train, Y_train, epochs=100, initial_epoch=0)\n",
        "\n",
        "print(my_first_nn.summary())\n",
        "print(my_first_nn.evaluate(X_test, Y_test))\n",
        "\n"
      ]
    },
    {
      "cell_type": "code",
      "execution_count": 3,
      "metadata": {
        "colab": {
          "base_uri": "https://localhost:8080/"
        },
        "id": "Du_YZ4MhEZ2O",
        "outputId": "fa56c99c-af0d-498e-e298-871688e116f2"
      },
      "outputs": [
        {
          "output_type": "stream",
          "name": "stdout",
          "text": [
            "B    357\n",
            "M    212\n",
            "Name: diagnosis, dtype: int64\n",
            "Model: \"sequential\"\n",
            "_________________________________________________________________\n",
            " Layer (type)                Output Shape              Param #   \n",
            "=================================================================\n",
            " dense (Dense)               (None, 20)                620       \n",
            "                                                                 \n",
            " dense_1 (Dense)             (None, 1)                 21        \n",
            "                                                                 \n",
            "=================================================================\n",
            "Total params: 641 (2.50 KB)\n",
            "Trainable params: 641 (2.50 KB)\n",
            "Non-trainable params: 0 (0.00 Byte)\n",
            "_________________________________________________________________\n",
            "None\n",
            "5/5 [==============================] - 0s 3ms/step - loss: 0.1553 - accuracy: 0.9580\n",
            "Test Loss: 0.15533922612667084\n",
            "Test Accuracy: 0.9580419659614563\n"
          ]
        }
      ],
      "source": [
        "#@title Changing the Dataset to Breast Cancer\n",
        "\n",
        "# Importing necessary libraries\n",
        "import pandas as pd\n",
        "from sklearn.model_selection import train_test_split\n",
        "from sklearn.preprocessing import LabelEncoder\n",
        "from keras.models import Sequential\n",
        "from keras.layers import Dense\n",
        "\n",
        "# Loading the breast cancer dataset\n",
        "dataset = pd.read_csv('breastcancer.csv')\n",
        "\n",
        "# Extracting features and labels\n",
        "X = dataset.iloc[:, 2:32].values\n",
        "y = dataset.iloc[:, 1].values\n",
        "print(dataset.iloc[:, 1].value_counts())\n",
        "\n",
        "# Encoding the labels\n",
        "label_encoder = LabelEncoder()\n",
        "y = label_encoder.fit_transform(y)\n",
        "\n",
        "# Splitting the data into training and testing sets\n",
        "X_train, X_test, y_train, y_test = train_test_split(\n",
        "    X, y, test_size=0.25, random_state=0)\n",
        "\n",
        "# Defining the model architecture\n",
        "model = Sequential()\n",
        "model.add(Dense(20, input_dim=30, activation='relu'))\n",
        "model.add(Dense(1, activation='sigmoid'))\n",
        "model.compile(loss='binary_crossentropy',\n",
        "              optimizer='adam', metrics=['accuracy'])\n",
        "\n",
        "# Training the model\n",
        "model.fit(X_train, y_train, epochs=100, verbose=0, initial_epoch=0)\n",
        "\n",
        "# Printing the summary of the model\n",
        "print(model.summary())\n",
        "\n",
        "# Evaluating the model on test data\n",
        "loss, accuracy = model.evaluate(X_test, y_test)\n",
        "print(\"Test Loss:\", loss)\n",
        "print(\"Test Accuracy:\", accuracy)\n"
      ]
    },
    {
      "cell_type": "code",
      "execution_count": 4,
      "metadata": {
        "colab": {
          "base_uri": "https://localhost:8080/",
          "height": 383
        },
        "id": "YU0Fj1PkA12D",
        "outputId": "7457883b-ea7a-4b10-f061-45329ec8d1a7"
      },
      "outputs": [
        {
          "output_type": "error",
          "ename": "ModuleNotFoundError",
          "evalue": "ignored",
          "traceback": [
            "\u001b[0;31m---------------------------------------------------------------------------\u001b[0m",
            "\u001b[0;31mModuleNotFoundError\u001b[0m                       Traceback (most recent call last)",
            "\u001b[0;32m<ipython-input-4-936e330c1a4b>\u001b[0m in \u001b[0;36m<cell line: 7>\u001b[0;34m()\u001b[0m\n\u001b[1;32m      5\u001b[0m \u001b[0;32mfrom\u001b[0m \u001b[0msklearn\u001b[0m\u001b[0;34m.\u001b[0m\u001b[0mpreprocessing\u001b[0m \u001b[0;32mimport\u001b[0m \u001b[0mLabelEncoder\u001b[0m\u001b[0;34m\u001b[0m\u001b[0;34m\u001b[0m\u001b[0m\n\u001b[1;32m      6\u001b[0m \u001b[0;32mfrom\u001b[0m \u001b[0mkeras\u001b[0m\u001b[0;34m.\u001b[0m\u001b[0mmodels\u001b[0m \u001b[0;32mimport\u001b[0m \u001b[0mSequential\u001b[0m\u001b[0;34m\u001b[0m\u001b[0;34m\u001b[0m\u001b[0m\n\u001b[0;32m----> 7\u001b[0;31m \u001b[0;32mfrom\u001b[0m \u001b[0mkeras\u001b[0m\u001b[0;34m.\u001b[0m\u001b[0mlayers\u001b[0m\u001b[0;34m.\u001b[0m\u001b[0mcore\u001b[0m \u001b[0;32mimport\u001b[0m \u001b[0mDense\u001b[0m\u001b[0;34m\u001b[0m\u001b[0;34m\u001b[0m\u001b[0m\n\u001b[0m\u001b[1;32m      8\u001b[0m \u001b[0;34m\u001b[0m\u001b[0m\n\u001b[1;32m      9\u001b[0m \u001b[0;32mimport\u001b[0m \u001b[0mpandas\u001b[0m \u001b[0;32mas\u001b[0m \u001b[0mpd\u001b[0m\u001b[0;34m\u001b[0m\u001b[0;34m\u001b[0m\u001b[0m\n",
            "\u001b[0;31mModuleNotFoundError\u001b[0m: No module named 'keras.layers.core'",
            "",
            "\u001b[0;31m---------------------------------------------------------------------------\u001b[0;32m\nNOTE: If your import is failing due to a missing package, you can\nmanually install dependencies using either !pip or !apt.\n\nTo view examples of installing some common dependencies, click the\n\"Open Examples\" button below.\n\u001b[0;31m---------------------------------------------------------------------------\u001b[0m\n"
          ],
          "errorDetails": {
            "actions": [
              {
                "action": "open_url",
                "actionText": "Open Examples",
                "url": "/notebooks/snippets/importing_libraries.ipynb"
              }
            ]
          }
        }
      ],
      "source": [
        "#@title Normalizing the data before feeding to the model\n",
        "\n",
        "from sklearn.preprocessing import StandardScaler\n",
        "from sklearn.model_selection import train_test_split\n",
        "from sklearn.preprocessing import LabelEncoder\n",
        "from keras.models import Sequential\n",
        "from keras.layers.core import Dense\n",
        "\n",
        "import pandas as pd\n",
        "\n",
        "# Load the breast cancer dataset from CSV file\n",
        "bc_dataset = pd.read_csv(\"breastcancer.csv\")\n",
        "\n",
        "# Extract features and labels\n",
        "X = bc_dataset.iloc[:, 2:32].values\n",
        "y = bc_dataset.iloc[:, 1].values\n",
        "print(bc_dataset.iloc[:, 1].value_counts())\n",
        "\n",
        "# Encode the categorical labels\n",
        "label_encoder = LabelEncoder()\n",
        "y = label_encoder.fit_transform(y)\n",
        "\n",
        "# Scale the input features\n",
        "sc = StandardScaler()\n",
        "X_scaled = sc.fit_transform(X)\n",
        "\n",
        "# Split the data into training and testing sets\n",
        "X_train, X_test, y_train, y_test = train_test_split(\n",
        "    X_scaled, y, test_size=0.25, random_state=0)\n",
        "\n",
        "# Define the neural network model for breast cancer detection\n",
        "bc_model = Sequential()\n",
        "bc_model.add(Dense(20, input_dim=30, activation='relu')) # Hidden layer\n",
        "bc_model.add(Dense(1, activation='sigmoid')) # Output layer\n",
        "bc_model.compile(loss='binary_crossentropy', optimizer='adam', metrics=['accuracy'])\n",
        "\n",
        "# Train the model\n",
        "bc_model.fit(X_train, y_train, epochs=100, verbose=0, initial_epoch=0)\n",
        "\n",
        "# Print the model summary and evaluate its accuracy on the test set\n",
        "print(bc_model.summary())\n",
        "print(bc_model.evaluate(X_test, y_test))"
      ]
    },
    {
      "cell_type": "markdown",
      "metadata": {
        "id": "iHVmy9xqGwQV"
      },
      "source": [
        "# 2: Use Image Classification on the hand written digits data set (mnist)\n"
      ]
    },
    {
      "cell_type": "code",
      "execution_count": 5,
      "metadata": {
        "colab": {
          "base_uri": "https://localhost:8080/"
        },
        "id": "Ki8rPrc0JqpI",
        "outputId": "96bbf451-f3ac-426a-adbf-da3edef821b7"
      },
      "outputs": [
        {
          "output_type": "stream",
          "name": "stdout",
          "text": [
            "Downloading data from https://storage.googleapis.com/tensorflow/tf-keras-datasets/mnist.npz\n",
            "11490434/11490434 [==============================] - 0s 0us/step\n",
            "(28, 28)\n",
            "784\n",
            "Epoch 1/10\n",
            "235/235 [==============================] - 8s 31ms/step - loss: 0.2852 - accuracy: 0.9137 - val_loss: 0.1318 - val_accuracy: 0.9590\n",
            "Epoch 2/10\n",
            "235/235 [==============================] - 5s 23ms/step - loss: 0.0986 - accuracy: 0.9693 - val_loss: 0.1249 - val_accuracy: 0.9612\n",
            "Epoch 3/10\n",
            "235/235 [==============================] - 7s 28ms/step - loss: 0.0621 - accuracy: 0.9801 - val_loss: 0.1140 - val_accuracy: 0.9654\n",
            "Epoch 4/10\n",
            "235/235 [==============================] - 10s 41ms/step - loss: 0.0429 - accuracy: 0.9866 - val_loss: 0.0990 - val_accuracy: 0.9684\n",
            "Epoch 5/10\n",
            "235/235 [==============================] - 9s 39ms/step - loss: 0.0317 - accuracy: 0.9901 - val_loss: 0.0584 - val_accuracy: 0.9818\n",
            "Epoch 6/10\n",
            "235/235 [==============================] - 7s 29ms/step - loss: 0.0227 - accuracy: 0.9930 - val_loss: 0.0845 - val_accuracy: 0.9766\n",
            "Epoch 7/10\n",
            "235/235 [==============================] - 5s 22ms/step - loss: 0.0165 - accuracy: 0.9948 - val_loss: 0.0729 - val_accuracy: 0.9786\n",
            "Epoch 8/10\n",
            "235/235 [==============================] - 6s 27ms/step - loss: 0.0119 - accuracy: 0.9964 - val_loss: 0.0765 - val_accuracy: 0.9792\n",
            "Epoch 9/10\n",
            "235/235 [==============================] - 5s 23ms/step - loss: 0.0094 - accuracy: 0.9972 - val_loss: 0.0822 - val_accuracy: 0.9794\n",
            "Epoch 10/10\n",
            "235/235 [==============================] - 6s 28ms/step - loss: 0.0072 - accuracy: 0.9980 - val_loss: 0.0812 - val_accuracy: 0.9813\n"
          ]
        }
      ],
      "source": [
        "#@title In class program\n",
        "\n",
        "from keras import Sequential\n",
        "from keras.datasets import mnist\n",
        "import numpy as np\n",
        "from keras.layers import Dense\n",
        "from keras.utils import to_categorical\n",
        "import matplotlib.pyplot as plt\n",
        "\n",
        "(train_images,train_labels),(test_images, test_labels) = mnist.load_data()\n",
        "\n",
        "print(train_images.shape[1:])\n",
        "#process the data\n",
        "#1. convert each image of shape 28*28 to 784 dimensional which will be fed to the network as a single feature\n",
        "dimData = np.prod(train_images.shape[1:])\n",
        "print(dimData)\n",
        "train_data = train_images.reshape(train_images.shape[0],dimData)\n",
        "test_data = test_images.reshape(test_images.shape[0],dimData)\n",
        "\n",
        "#convert data to float and scale values between 0 and 1\n",
        "train_data = train_data.astype('float')\n",
        "test_data = test_data.astype('float')\n",
        "#scale data\n",
        "train_data /=255.0\n",
        "test_data /=255.0\n",
        "#change the labels frominteger to one-hot encoding. to_categorical is doing the same thing as LabelEncoder()\n",
        "train_labels_one_hot = to_categorical(train_labels)\n",
        "test_labels_one_hot = to_categorical(test_labels)\n",
        "\n",
        "#creating network\n",
        "model = Sequential()\n",
        "model.add(Dense(512, activation='relu', input_shape=(dimData,)))\n",
        "model.add(Dense(512, activation='relu'))\n",
        "model.add(Dense(10, activation='softmax'))\n",
        "\n",
        "model.compile(optimizer='rmsprop', loss='categorical_crossentropy', metrics=['accuracy'])\n",
        "history = model.fit(train_data, train_labels_one_hot, batch_size=256, epochs=10, verbose=1,\n",
        "                   validation_data=(test_data, test_labels_one_hot))\n"
      ]
    },
    {
      "cell_type": "code",
      "execution_count": 6,
      "metadata": {
        "colab": {
          "base_uri": "https://localhost:8080/",
          "height": 927
        },
        "id": "hNU4DZJxG_db",
        "outputId": "2fb868d4-c716-4494-950f-72bb5c7cc45c"
      },
      "outputs": [
        {
          "output_type": "display_data",
          "data": {
            "text/plain": [
              "<Figure size 640x480 with 1 Axes>"
            ],
            "image/png": "[encoded data removed]"
          },
          "metadata": {}
        },
        {
          "output_type": "display_data",
          "data": {
            "text/plain": [
              "<Figure size 640x480 with 1 Axes>"
            ],
            "image/png": "[encoded data removed]"
          },
          "metadata": {}
        }
      ],
      "source": [
        "#@title Plot the loss and accuracy for both training data and validation data using the history object in the source code.\n",
        "# summarize history for accuracy\n",
        "plt.plot(history.history['accuracy'])\n",
        "plt.plot(history.history['val_accuracy'])\n",
        "plt.title('Model accuracy')\n",
        "plt.ylabel('Accuracy')\n",
        "plt.xlabel('Epoch')\n",
        "plt.legend(['Train', 'Test'], loc='upper left')\n",
        "plt.show()\n",
        "\n",
        "# summarize history for loss\n",
        "plt.plot(history.history['loss'])\n",
        "plt.plot(history.history['val_loss'])\n",
        "plt.title('Model loss')\n",
        "plt.ylabel('Loss')\n",
        "plt.xlabel('Epoch')\n",
        "plt.legend(['Train', 'Test'], loc='upper left')\n",
        "plt.show()"
      ]
    },
    {
      "cell_type": "code",
      "execution_count": 7,
      "metadata": {
        "colab": {
          "base_uri": "https://localhost:8080/",
          "height": 539
        },
        "id": "ML_D8MHINoo1",
        "outputId": "c44821ae-38c5-47f0-fb86-6c8559c61683"
      },
      "outputs": [
        {
          "output_type": "display_data",
          "data": {
            "text/plain": [
              "<Figure size 640x480 with 1 Axes>"
            ],
            "image/png": "[encoded data removed]"
          },
          "metadata": {}
        },
        {
          "output_type": "stream",
          "name": "stdout",
          "text": [
            "1/1 [==============================] - 0s 105ms/step\n",
            "\n",
            " The predicted single image in the test data is:  [[1.54973808e-18 6.46520661e-17 2.02587980e-17 7.76664757e-12\n",
            "  5.42425504e-21 1.00000000e+00 1.51498036e-13 1.25426404e-19\n",
            "  2.05620077e-14 1.30225995e-11]]\n"
          ]
        }
      ],
      "source": [
        "#@title Plot one of the images in the test data, and then do inferencing to check what is the prediction of the model on that single image.\n",
        "\n",
        "# plot the single image in the test data\n",
        "plt.imshow(test_images[23].reshape(28,28))\n",
        "plt.title('Display of single image in test data')\n",
        "plt.show()\n",
        "\n",
        "# get the prediction of the model on the above image in the test data\n",
        "test_img_pred = model.predict(test_data[[23], :])\n",
        "print(\"\\n The predicted single image in the test data is: \", test_img_pred)\n"
      ]
    },
    {
      "cell_type": "code",
      "execution_count": null,
      "metadata": {
        "colab": {
          "base_uri": "https://localhost:8080/"
        },
        "id": "Zo-FXOIrTGty",
        "outputId": "160d6582-8c9c-4b76-b55b-01d8602596a8"
      },
      "outputs": [
        {
          "output_type": "stream",
          "name": "stdout",
          "text": [
            "Epoch 1/15\n",
            "235/235 [==============================] - 14s 55ms/step - loss: 0.4739 - accuracy: 0.8597 - val_loss: 0.4600 - val_accuracy: 0.8644\n",
            "Epoch 2/15\n",
            "235/235 [==============================] - 12s 53ms/step - loss: 0.1593 - accuracy: 0.9510 - val_loss: 0.1923 - val_accuracy: 0.9418\n",
            "Epoch 3/15\n",
            "235/235 [==============================] - 14s 58ms/step - loss: 0.1038 - accuracy: 0.9681 - val_loss: 0.1263 - val_accuracy: 0.9618\n",
            "Epoch 4/15\n",
            "235/235 [==============================] - 14s 62ms/step - loss: 0.0706 - accuracy: 0.9781 - val_loss: 0.0959 - val_accuracy: 0.9708\n",
            "Epoch 5/15\n",
            "235/235 [==============================] - 13s 54ms/step - loss: 0.0521 - accuracy: 0.9832 - val_loss: 0.0731 - val_accuracy: 0.9772\n",
            "Epoch 6/15\n",
            "235/235 [==============================] - 13s 54ms/step - loss: 0.0377 - accuracy: 0.9881 - val_loss: 0.1443 - val_accuracy: 0.9587\n",
            "Epoch 7/15\n",
            "235/235 [==============================] - 13s 53ms/step - loss: 0.0278 - accuracy: 0.9912 - val_loss: 0.0661 - val_accuracy: 0.9800\n",
            "Epoch 8/15\n",
            "235/235 [==============================] - 12s 53ms/step - loss: 0.0189 - accuracy: 0.9943 - val_loss: 0.1486 - val_accuracy: 0.9602\n",
            "Epoch 9/15\n",
            "235/235 [==============================] - 13s 53ms/step - loss: 0.0130 - accuracy: 0.9962 - val_loss: 0.0793 - val_accuracy: 0.9774\n",
            "Epoch 10/15\n",
            "235/235 [==============================] - 12s 52ms/step - loss: 0.0087 - accuracy: 0.9977 - val_loss: 0.1038 - val_accuracy: 0.9731\n",
            "Epoch 11/15\n",
            "235/235 [==============================] - 12s 52ms/step - loss: 0.0077 - accuracy: 0.9978 - val_loss: 0.0813 - val_accuracy: 0.9793\n",
            "Epoch 12/15\n",
            "235/235 [==============================] - 12s 51ms/step - loss: 0.0057 - accuracy: 0.9986 - val_loss: 0.0933 - val_accuracy: 0.9758\n",
            "Epoch 13/15\n",
            "235/235 [==============================] - 13s 54ms/step - loss: 0.0059 - accuracy: 0.9983 - val_loss: 0.0749 - val_accuracy: 0.9798\n",
            "Epoch 14/15\n",
            "145/235 [=================>............] - ETA: 4s - loss: 0.0049 - accuracy: 0.9984"
          ]
        }
      ],
      "source": [
        "#@title change the number of hidden layer and the activation to tanh or sigmoid and see what happens.\n",
        "model_1 = Sequential()\n",
        "model_1.add(Dense(512, activation='tanh', input_shape=(dimData,)))\n",
        "model_1.add(Dense(550, activation='tanh'))\n",
        "model_1.add(Dense(600, activation='tanh'))\n",
        "model_1.add(Dense(612, activation='tanh'))\n",
        "model_1.add(Dense(10, activation='sigmoid'))\n",
        "\n",
        "model_1.compile(optimizer='rmsprop', loss='categorical_crossentropy', metrics=['accuracy'])\n",
        "history_1 = model_1.fit(train_data, train_labels_one_hot, batch_size=256, epochs=15, verbose=1,\n",
        "                   validation_data=(test_data, test_labels_one_hot))\n",
        "\n",
        "[test_loss_1, test_acc_1] = model_1.evaluate(test_data, test_labels_one_hot)\n",
        "print(\"Evaluation result on Test Data : Loss = {}, accuracy = {}\".format(test_loss_1, test_acc_1))"
      ]
    },
    {
      "cell_type": "code",
      "execution_count": null,
      "metadata": {
        "id": "zf6slEHJTgh1"
      },
      "outputs": [],
      "source": [
        "#@title Run the same code without scaling the images and check the performance\n"
      ]
    }
  ],
  "metadata": {
    "colab": {
      "provenance": [],
      "include_colab_link": true
    },
    "kernelspec": {
      "display_name": "Python 3 (ipykernel)",
      "language": "python",
      "name": "python3"
    },
    "language_info": {
      "codemirror_mode": {
        "name": "ipython",
        "version": 3
      },
      "file_extension": ".py",
      "mimetype": "text/x-python",
      "name": "python",
      "nbconvert_exporter": "python",
      "pygments_lexer": "ipython3",
      "version": "3.11.4"
    }
  },
  "nbformat": 4,
  "nbformat_minor": 0
}